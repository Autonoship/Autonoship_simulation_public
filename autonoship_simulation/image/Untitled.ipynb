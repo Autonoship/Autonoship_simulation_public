{
 "cells": [
  {
   "cell_type": "code",
   "execution_count": 1,
   "id": "79d0c708",
   "metadata": {},
   "outputs": [],
   "source": [
    "import cv2\n",
    "import numpy as np"
   ]
  },
  {
   "cell_type": "code",
   "execution_count": 2,
   "id": "6e6cfbc3",
   "metadata": {},
   "outputs": [],
   "source": [
    "img = cv2.imread(\"res_100_lon_-122.67_-122.22_lat_37.54_38.17.jpg\")\n",
    "\n",
    "scale_percent = 10 # percent of original size\n",
    "width = int(img.shape[1] * scale_percent / 100)\n",
    "height = int(img.shape[0] * scale_percent / 100)\n",
    "dim = (width, height)\n",
    "resized = cv2.resize(img, dim, interpolation = cv2.INTER_AREA)\n",
    "\n",
    "cv2.imshow(\"img\", resized)\n",
    "cv2.waitKey(0)\n",
    "cv2.destroyAllWindows()\n"
   ]
  },
  {
   "cell_type": "code",
   "execution_count": 6,
   "id": "b59c3f55",
   "metadata": {},
   "outputs": [
    {
     "data": {
      "text/plain": [
       "(700, 395, 3)"
      ]
     },
     "execution_count": 6,
     "metadata": {},
     "output_type": "execute_result"
    }
   ],
   "source": [
    "resized.shape"
   ]
  },
  {
   "cell_type": "code",
   "execution_count": 3,
   "id": "044ce4e5",
   "metadata": {},
   "outputs": [],
   "source": [
    "img_test = np.zeros([1025, 1025, 3])\n",
    "img_test[:700, :395, :] = resized\n",
    "cv2.imshow(\"img_test\", img_test)\n",
    "cv2.waitKey(0)\n",
    "cv2.destroyAllWindows()"
   ]
  },
  {
   "cell_type": "code",
   "execution_count": 5,
   "id": "1419fa43",
   "metadata": {},
   "outputs": [
    {
     "data": {
      "text/plain": [
       "True"
      ]
     },
     "execution_count": 5,
     "metadata": {},
     "output_type": "execute_result"
    }
   ],
   "source": [
    "cv2.imwrite(\"chart.png\", img_test)"
   ]
  },
  {
   "cell_type": "code",
   "execution_count": 3,
   "id": "7ed1e3c5",
   "metadata": {},
   "outputs": [
    {
     "data": {
      "text/plain": [
       "True"
      ]
     },
     "execution_count": 3,
     "metadata": {},
     "output_type": "execute_result"
    }
   ],
   "source": [
    "img_test = np.zeros([513, 513]) * 255\n",
    "img_test[20:490, 40:470] = 255\n",
    "img_test[60:450, 80:430] = 0\n",
    "cv2.imwrite(\"chart.png\", img_test)"
   ]
  },
  {
   "cell_type": "code",
   "execution_count": null,
   "id": "da7be776",
   "metadata": {},
   "outputs": [],
   "source": []
  }
 ],
 "metadata": {
  "kernelspec": {
   "display_name": "Python 3 (ipykernel)",
   "language": "python",
   "name": "python3"
  },
  "language_info": {
   "codemirror_mode": {
    "name": "ipython",
    "version": 3
   },
   "file_extension": ".py",
   "mimetype": "text/x-python",
   "name": "python",
   "nbconvert_exporter": "python",
   "pygments_lexer": "ipython3",
   "version": "3.8.10"
  }
 },
 "nbformat": 4,
 "nbformat_minor": 5
}
